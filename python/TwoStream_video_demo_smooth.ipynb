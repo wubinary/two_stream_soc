{
 "cells": [
  {
   "cell_type": "markdown",
   "metadata": {},
   "source": [
    "# Demo Video smooth version"
   ]
  },
  {
   "cell_type": "code",
   "execution_count": 1,
   "metadata": {},
   "outputs": [
    {
     "data": {
      "application/javascript": [
       "\n",
       "require(['notebook/js/codecell'], function(codecell) {\n",
       "  codecell.CodeCell.options_default.highlight_modes[\n",
       "      'magic_text/x-csrc'] = {'reg':[/^%%microblaze/]};\n",
       "  Jupyter.notebook.events.one('kernel_ready.Kernel', function(){\n",
       "      Jupyter.notebook.get_cells().map(function(cell){\n",
       "          if (cell.cell_type == 'code'){ cell.auto_highlight(); } }) ;\n",
       "  });\n",
       "});\n"
      ]
     },
     "metadata": {},
     "output_type": "display_data"
    }
   ],
   "source": [
    "from LK_optical_flow.utils import showarray\n",
    "from two_stream import Two_stream\n",
    "\n",
    "import os, sys, cv2, time\n",
    "old_stdout = sys.stdout\n",
    "\n",
    "import configparser\n",
    "import numpy as np\n",
    "\n",
    "from contextlib import contextmanager\n",
    "\n",
    "@contextmanager\n",
    "def silence_stdout():\n",
    "    old_target = sys.stdout\n",
    "    try:\n",
    "        with open(os.devnull, \"w\") as new_target:\n",
    "            sys.stdout = new_target\n",
    "            yield new_target\n",
    "    finally:\n",
    "        sys.stdout = old_target\n",
    "        "
   ]
  },
  {
   "cell_type": "code",
   "execution_count": 2,
   "metadata": {},
   "outputs": [],
   "source": [
    "## configs\n",
    "config = configparser.ConfigParser()\n",
    "config.read('./files/config.config')\n",
    "\n",
    "size = (ch,h,w) = (config['OpticalFlow']['channel'],\n",
    "                   int(config['DataConfig']['image_height']),int(config['DataConfig']['image_width'])) #(20,256,256)\n",
    "\n",
    "fps_list = []\n",
    "start,end,sec = 0,0,1e-4"
   ]
  },
  {
   "cell_type": "code",
   "execution_count": 3,
   "metadata": {},
   "outputs": [],
   "source": [
    "import ctypes\n",
    "import numpy as np\n",
    "import multiprocessing as mp\n",
    "\n",
    "from multiprocessing import Process\n",
    "\n",
    "def action_recogn_job(curr_frame, prev_frame, output):\n",
    "    global two_stream\n",
    "    \n",
    "    with silence_stdout():\n",
    "        output[:] = two_stream(curr_frame, prev_frame)\n",
    "\n",
    "output = mp.Array(ctypes.c_float, 101)\n",
    "ps_two_stream = None #Process(target=self.spatial_job, args=(input_frame, 0))\n"
   ]
  },
  {
   "cell_type": "code",
   "execution_count": 4,
   "metadata": {},
   "outputs": [
    {
     "name": "stdout",
     "output_type": "stream",
     "text": [
      "\t[Info] buff depth 65536\n",
      "\t[Info] buff depth 131072\n",
      "\t[Info] buff depth 131072\n",
      "memory allocation...\n",
      "memory allocation...: done\n",
      "\t[Info] buff depth 131072\n",
      "memory allocation...\n",
      "memory allocation...: done\n",
      "\t[Info] buff depth 131072\n",
      "memory allocation...\n",
      "memory allocation...: done\n",
      "\t[Info] buff depth 131072\n",
      "memory allocation...\n",
      "memory allocation...: done\n",
      "\t[Info] buff depth 131072\n",
      "memory allocation...\n",
      "memory allocation...: done\n",
      "\t[Info] buff depth 131072\n",
      "\t[Info] buff depth 131072\n",
      "\t[Info] buff depth 131072\n",
      "\t[Info] buff depth 65536\n",
      "shape of wgt:  (32, 16, 3, 3)\n",
      "shape of wgt:  (64, 32, 3, 3)\n",
      "shape of wgt:  (64, 64, 3, 3)\n",
      "shape of wgt:  (64, 64, 3, 3)\n",
      "shape of wgt:  (64, 64, 3, 3)\n",
      "\t[Info] buff depth 131072\n",
      "memory allocation...\n",
      "memory allocation...: done\n",
      "\t[Info] buff depth 131072\n",
      "memory allocation...\n",
      "memory allocation...: done\n",
      "\t[Info] buff depth 131072\n",
      "memory allocation...\n",
      "memory allocation...: done\n",
      "\t[Info] buff depth 131072\n",
      "memory allocation...\n",
      "memory allocation...: done\n",
      "\t[Info] buff depth 131072\n",
      "memory allocation...\n",
      "memory allocation...: done\n",
      "\t[Info] buff depth 131072\n",
      "\t[Info] buff depth 131072\n",
      "\t[Info] buff depth 131072\n",
      "\t[Info] buff depth 131072\n",
      "shape of wgt:  (32, 32, 3, 3)\n",
      "shape of wgt:  (64, 32, 3, 3)\n",
      "shape of wgt:  (64, 64, 3, 3)\n",
      "shape of wgt:  (64, 64, 3, 3)\n",
      "shape of wgt:  (64, 64, 3, 3)\n"
     ]
    }
   ],
   "source": [
    "two_stream = Two_stream('./files/config.config')"
   ]
  },
  {
   "cell_type": "code",
   "execution_count": 5,
   "metadata": {
    "scrolled": true
   },
   "outputs": [],
   "source": [
    "delay_list = []\n",
    "def demo(video_path='LK_optical_flow/files/Big.Buck.Bunny.mp4'):\n",
    "    global sec, output, ps_two_stream, h, w\n",
    "    \n",
    "    # put demo video\n",
    "    cap = cv2.VideoCapture(video_path)\n",
    "\n",
    "    prev_frame = np.zeros((h,w,3)).astype(np.uint8)\n",
    "    prev_frame_gray = np.zeros((h,w)).astype(np.uint8)\n",
    "    while(True):\n",
    "        start = time.time()\n",
    "\n",
    "        ret,frame = cap.read()\n",
    "        if ret:            \n",
    "            curr_frame = cv2.resize(frame, (h, w))\n",
    "            curr_frame = cv2.cvtColor(curr_frame, cv2.COLOR_BGR2RGB)\n",
    "            curr_frame_gray = cv2.cvtColor(curr_frame, cv2.COLOR_RGB2GRAY)\n",
    "            \n",
    "            start = time.time()\n",
    "            \n",
    "            # luccas kannade , fbank\n",
    "            vx,vy = two_stream.lucas_kanade_acc.compute(prev_frame_gray, curr_frame_gray)\n",
    "            \n",
    "            end = time.time()\n",
    "            delay_list.append(end-start)\n",
    "            \n",
    "            two_stream.feature_bank.push(vx,vy)\n",
    "            \n",
    "#             action_recogn_job(curr_frame, prev_frame, output)\n",
    "            if ps_two_stream==None or not ps_two_stream.is_alive():\n",
    "                ps_two_stream = Process(target=action_recogn_job, args=(curr_frame, prev_frame, output))\n",
    "                ps_two_stream.start()\n",
    "\n",
    "            ## class \n",
    "            k = 3\n",
    "            pred_action = np.argpartition(np.array(output), -k)[-k:]+1 #top-k\n",
    "\n",
    "            prev_frame = curr_frame\n",
    "            prev_frame_gray = curr_frame_gray\n",
    "\n",
    "            ####################\n",
    "            ##### just show ####\n",
    "            vx = np.expand_dims(vx, axis=2)\n",
    "            vy = np.expand_dims(vy, axis=2)\n",
    "            #vv = np.sqrt((vx**2+vy**2))\n",
    "            vv = np.zeros((h,w,1))\n",
    "            v = np.concatenate((vv,vx,vy),axis=2).astype(np.uint8)\n",
    "            showarray(np.concatenate((curr_frame,v),axis=1), 1/sec, topk=pred_action)\n",
    "            ####################\n",
    "            #showarray(curr_frame, 1/sec, show_meta=False)\n",
    "        else:\n",
    "            break\n",
    "\n",
    "        end = time.time()\n",
    "        sec = end-start\n",
    "        fps_list.append(1/sec)\n",
    "        #print(sec)\n",
    "\n",
    "    print(f\"avg fps:{sum(fps_list)/len(fps_list)}\")\n"
   ]
  },
  {
   "cell_type": "code",
   "execution_count": 6,
   "metadata": {},
   "outputs": [
    {
     "data": {
      "image/jpeg": "[encoded data removed]",
      "text/plain": [
       "<IPython.core.display.Image object>"
      ]
     },
     "metadata": {},
     "output_type": "display_data"
    },
    {
     "name": "stderr",
     "output_type": "stream",
     "text": [
      "Process Process-348:1:\n",
      "Traceback (most recent call last):\n",
      "Process Process-348:2:\n",
      "Traceback (most recent call last):\n",
      "  File \"/usr/lib/python3.6/multiprocessing/process.py\", line 258, in _bootstrap\n",
      "    self.run()\n",
      "  File \"/usr/lib/python3.6/multiprocessing/process.py\", line 258, in _bootstrap\n",
      "    self.run()\n",
      "  File \"/usr/lib/python3.6/multiprocessing/process.py\", line 93, in run\n",
      "    self._target(*self._args, **self._kwargs)\n",
      "  File \"/usr/lib/python3.6/multiprocessing/process.py\", line 93, in run\n",
      "    self._target(*self._args, **self._kwargs)\n",
      "  File \"/home/xilinx/jupyter_notebooks/WUBINRAY/two_stream_soc/two_stream.py\", line 55, in temporal_job\n",
      "    out = self.model_temporal(temp_frame[:,:,:20]) ######### TODO: #########\n",
      "  File \"/home/xilinx/jupyter_notebooks/WUBINRAY/two_stream_soc/VGG16/accelerator.py\", line 154, in __call__\n",
      "    fm = l(fm)\n",
      "  File \"/home/xilinx/jupyter_notebooks/WUBINRAY/two_stream_soc/two_stream.py\", line 50, in spatial_job\n",
      "    out = self.model_spatial(input_frame)\n",
      "  File \"/home/xilinx/jupyter_notebooks/WUBINRAY/two_stream_soc/VGG16/accelerator.py\", line 154, in __call__\n",
      "    fm = l(fm)\n",
      "  File \"/home/xilinx/jupyter_notebooks/WUBINRAY/two_stream_soc/VGG16/fpga_nn.py\", line 146, in __call__\n",
      "    self.multiplier, self.zp_x, self.zp_w, self.zp_x_next)\n",
      "  File \"/home/xilinx/jupyter_notebooks/WUBINRAY/two_stream_soc/VGG16/conv_operation.py\", line 142, in sw_linear_quant\n",
      "    output = ((wgt.astype(np.float32)-zp_w).dot((ifm.astype(np.float32)-zp_x)))*multiplier + zp_x_next\n",
      "  File \"/home/xilinx/jupyter_notebooks/WUBINRAY/two_stream_soc/VGG16/fpga_nn.py\", line 110, in __call__\n",
      "    self.accelerator.execute()\n",
      "KeyboardInterrupt\n",
      "  File \"/home/xilinx/jupyter_notebooks/WUBINRAY/two_stream_soc/VGG16/accelerator.py\", line 215, in execute\n",
      "    isready = self.core0.read(0x00)\n",
      "  File \"/usr/local/lib/python3.6/dist-packages/pynq/overlay.py\", line 701, in read\n",
      "    return self.mmio.read(offset)\n",
      "  File \"/usr/local/lib/python3.6/dist-packages/pynq/mmio.py\", line 138, in read_mm\n",
      "    return int(self.array[idx])\n",
      "KeyboardInterrupt\n",
      "Process Process-348:\n",
      "Traceback (most recent call last):\n",
      "  File \"/usr/lib/python3.6/multiprocessing/process.py\", line 258, in _bootstrap\n",
      "    self.run()\n",
      "  File \"/usr/lib/python3.6/multiprocessing/process.py\", line 93, in run\n",
      "    self._target(*self._args, **self._kwargs)\n",
      "  File \"<ipython-input-3-5313a6d64bf1>\", line 11, in action_recogn_job\n",
      "    output[:] = two_stream(curr_frame, prev_frame)\n",
      "  File \"/home/xilinx/jupyter_notebooks/WUBINRAY/two_stream_soc/two_stream.py\", line 69, in __call__\n",
      "    ps1.join()\n",
      "  File \"/usr/lib/python3.6/multiprocessing/process.py\", line 124, in join\n",
      "    res = self._popen.wait(timeout)\n",
      "  File \"/usr/lib/python3.6/multiprocessing/popen_fork.py\", line 50, in wait\n",
      "    return self.poll(os.WNOHANG if timeout == 0.0 else 0)\n",
      "  File \"/usr/lib/python3.6/multiprocessing/popen_fork.py\", line 28, in poll\n",
      "    pid, sts = os.waitpid(self.pid, flag)\n",
      "KeyboardInterrupt\n"
     ]
    },
    {
     "ename": "KeyboardInterrupt",
     "evalue": "",
     "output_type": "error",
     "traceback": [
      "\u001b[0;31m---------------------------------------------------------------------------\u001b[0m",
      "\u001b[0;31mKeyboardInterrupt\u001b[0m                         Traceback (most recent call last)",
      "\u001b[0;32m<ipython-input-6-6fbd0433630e>\u001b[0m in \u001b[0;36m<module>\u001b[0;34m()\u001b[0m\n\u001b[1;32m     14\u001b[0m \u001b[0;34m\u001b[0m\u001b[0m\n\u001b[1;32m     15\u001b[0m \u001b[0;32mfor\u001b[0m \u001b[0mvd\u001b[0m \u001b[0;32min\u001b[0m \u001b[0mvideo_candidate1\u001b[0m\u001b[0;34m:\u001b[0m\u001b[0;34m\u001b[0m\u001b[0m\n\u001b[0;32m---> 16\u001b[0;31m     \u001b[0mdemo\u001b[0m\u001b[0;34m(\u001b[0m\u001b[0mvd\u001b[0m\u001b[0;34m)\u001b[0m\u001b[0;34m\u001b[0m\u001b[0m\n\u001b[0m\u001b[1;32m     17\u001b[0m \u001b[0;34m\u001b[0m\u001b[0m\n",
      "\u001b[0;32m<ipython-input-5-6999edf336c8>\u001b[0m in \u001b[0;36mdemo\u001b[0;34m(video_path)\u001b[0m\n\u001b[1;32m     46\u001b[0m             \u001b[0mvv\u001b[0m \u001b[0;34m=\u001b[0m \u001b[0mnp\u001b[0m\u001b[0;34m.\u001b[0m\u001b[0mzeros\u001b[0m\u001b[0;34m(\u001b[0m\u001b[0;34m(\u001b[0m\u001b[0mh\u001b[0m\u001b[0;34m,\u001b[0m\u001b[0mw\u001b[0m\u001b[0;34m,\u001b[0m\u001b[0;36m1\u001b[0m\u001b[0;34m)\u001b[0m\u001b[0;34m)\u001b[0m\u001b[0;34m\u001b[0m\u001b[0m\n\u001b[1;32m     47\u001b[0m             \u001b[0mv\u001b[0m \u001b[0;34m=\u001b[0m \u001b[0mnp\u001b[0m\u001b[0;34m.\u001b[0m\u001b[0mconcatenate\u001b[0m\u001b[0;34m(\u001b[0m\u001b[0;34m(\u001b[0m\u001b[0mvv\u001b[0m\u001b[0;34m,\u001b[0m\u001b[0mvx\u001b[0m\u001b[0;34m,\u001b[0m\u001b[0mvy\u001b[0m\u001b[0;34m)\u001b[0m\u001b[0;34m,\u001b[0m\u001b[0maxis\u001b[0m\u001b[0;34m=\u001b[0m\u001b[0;36m2\u001b[0m\u001b[0;34m)\u001b[0m\u001b[0;34m.\u001b[0m\u001b[0mastype\u001b[0m\u001b[0;34m(\u001b[0m\u001b[0mnp\u001b[0m\u001b[0;34m.\u001b[0m\u001b[0muint8\u001b[0m\u001b[0;34m)\u001b[0m\u001b[0;34m\u001b[0m\u001b[0m\n\u001b[0;32m---> 48\u001b[0;31m             \u001b[0mshowarray\u001b[0m\u001b[0;34m(\u001b[0m\u001b[0mnp\u001b[0m\u001b[0;34m.\u001b[0m\u001b[0mconcatenate\u001b[0m\u001b[0;34m(\u001b[0m\u001b[0;34m(\u001b[0m\u001b[0mcurr_frame\u001b[0m\u001b[0;34m,\u001b[0m\u001b[0mv\u001b[0m\u001b[0;34m)\u001b[0m\u001b[0;34m,\u001b[0m\u001b[0maxis\u001b[0m\u001b[0;34m=\u001b[0m\u001b[0;36m1\u001b[0m\u001b[0;34m)\u001b[0m\u001b[0;34m,\u001b[0m \u001b[0;36m1\u001b[0m\u001b[0;34m/\u001b[0m\u001b[0msec\u001b[0m\u001b[0;34m,\u001b[0m \u001b[0mtopk\u001b[0m\u001b[0;34m=\u001b[0m\u001b[0mpred_action\u001b[0m\u001b[0;34m)\u001b[0m\u001b[0;34m\u001b[0m\u001b[0m\n\u001b[0m\u001b[1;32m     49\u001b[0m             \u001b[0;31m####################\u001b[0m\u001b[0;34m\u001b[0m\u001b[0;34m\u001b[0m\u001b[0m\n\u001b[1;32m     50\u001b[0m             \u001b[0;31m#showarray(curr_frame, 1/sec, show_meta=False)\u001b[0m\u001b[0;34m\u001b[0m\u001b[0;34m\u001b[0m\u001b[0m\n",
      "\u001b[0;32m/home/xilinx/jupyter_notebooks/WUBINRAY/two_stream_soc/LK_optical_flow/utils.py\u001b[0m in \u001b[0;36mshowarray\u001b[0;34m(capture_frame, fps, fmt, show_meta, topk)\u001b[0m\n\u001b[1;32m     87\u001b[0m     \u001b[0;31m#pred_result = your_model(capture_frame)\u001b[0m\u001b[0;34m\u001b[0m\u001b[0;34m\u001b[0m\u001b[0m\n\u001b[1;32m     88\u001b[0m \u001b[0;34m\u001b[0m\u001b[0m\n\u001b[0;32m---> 89\u001b[0;31m     \u001b[0mframe\u001b[0m \u001b[0;34m=\u001b[0m \u001b[0mshow_frame\u001b[0m\u001b[0;34m(\u001b[0m\u001b[0mcapture_frame\u001b[0m\u001b[0;34m,\u001b[0m \u001b[0;36m0\u001b[0m\u001b[0;34m,\u001b[0m \u001b[0mfps\u001b[0m\u001b[0;34m,\u001b[0m \u001b[0mshow_meta\u001b[0m\u001b[0;34m,\u001b[0m \u001b[0mtopk\u001b[0m\u001b[0;34m)\u001b[0m\u001b[0;34m\u001b[0m\u001b[0m\n\u001b[0m\u001b[1;32m     90\u001b[0m \u001b[0;34m\u001b[0m\u001b[0m\n\u001b[1;32m     91\u001b[0m     \u001b[0mclear_output\u001b[0m\u001b[0;34m(\u001b[0m\u001b[0mwait\u001b[0m\u001b[0;34m=\u001b[0m\u001b[0;32mTrue\u001b[0m\u001b[0;34m)\u001b[0m\u001b[0;34m\u001b[0m\u001b[0m\n",
      "\u001b[0;32m/home/xilinx/jupyter_notebooks/WUBINRAY/two_stream_soc/LK_optical_flow/utils.py\u001b[0m in \u001b[0;36mshow_frame\u001b[0;34m(capture_frame, pred_result, fps, show_meta, topk)\u001b[0m\n\u001b[1;32m     78\u001b[0m     \u001b[0;32mif\u001b[0m \u001b[0mshow_meta\u001b[0m\u001b[0;34m:\u001b[0m\u001b[0;34m\u001b[0m\u001b[0m\n\u001b[1;32m     79\u001b[0m         \u001b[0mdraw\u001b[0m \u001b[0;34m=\u001b[0m \u001b[0mImageDraw\u001b[0m\u001b[0;34m.\u001b[0m\u001b[0mDraw\u001b[0m\u001b[0;34m(\u001b[0m\u001b[0mframe\u001b[0m\u001b[0;34m)\u001b[0m\u001b[0;34m\u001b[0m\u001b[0m\n\u001b[0;32m---> 80\u001b[0;31m         \u001b[0mdraw\u001b[0m\u001b[0;34m.\u001b[0m\u001b[0mtext\u001b[0m\u001b[0;34m(\u001b[0m\u001b[0;34m(\u001b[0m\u001b[0;36m10\u001b[0m\u001b[0;34m,\u001b[0m\u001b[0mh\u001b[0m\u001b[0;34m-\u001b[0m\u001b[0;36m23\u001b[0m\u001b[0;34m)\u001b[0m\u001b[0;34m,\u001b[0m \u001b[0mresult\u001b[0m\u001b[0;34m,\u001b[0m \u001b[0;34m(\u001b[0m\u001b[0;36m255\u001b[0m\u001b[0;34m,\u001b[0m\u001b[0;36m255\u001b[0m\u001b[0;34m,\u001b[0m\u001b[0;36m0\u001b[0m\u001b[0;34m)\u001b[0m\u001b[0;34m,\u001b[0m \u001b[0mfont\u001b[0m\u001b[0;34m=\u001b[0m\u001b[0mfont\u001b[0m\u001b[0;34m)\u001b[0m\u001b[0;34m\u001b[0m\u001b[0m\n\u001b[0m\u001b[1;32m     81\u001b[0m     \u001b[0;32mreturn\u001b[0m \u001b[0mframe\u001b[0m\u001b[0;34m\u001b[0m\u001b[0m\n\u001b[1;32m     82\u001b[0m \u001b[0;34m\u001b[0m\u001b[0m\n",
      "\u001b[0;32m/usr/lib/python3/dist-packages/PIL/ImageDraw.py\u001b[0m in \u001b[0;36mtext\u001b[0;34m(self, xy, text, fill, font, anchor, *args, **kwargs)\u001b[0m\n\u001b[1;32m    218\u001b[0m         \u001b[0;32mif\u001b[0m \u001b[0mink\u001b[0m \u001b[0;32mis\u001b[0m \u001b[0;32mnot\u001b[0m \u001b[0;32mNone\u001b[0m\u001b[0;34m:\u001b[0m\u001b[0;34m\u001b[0m\u001b[0m\n\u001b[1;32m    219\u001b[0m             \u001b[0;32mtry\u001b[0m\u001b[0;34m:\u001b[0m\u001b[0;34m\u001b[0m\u001b[0m\n\u001b[0;32m--> 220\u001b[0;31m                 \u001b[0mmask\u001b[0m\u001b[0;34m,\u001b[0m \u001b[0moffset\u001b[0m \u001b[0;34m=\u001b[0m \u001b[0mfont\u001b[0m\u001b[0;34m.\u001b[0m\u001b[0mgetmask2\u001b[0m\u001b[0;34m(\u001b[0m\u001b[0mtext\u001b[0m\u001b[0;34m,\u001b[0m \u001b[0mself\u001b[0m\u001b[0;34m.\u001b[0m\u001b[0mfontmode\u001b[0m\u001b[0;34m,\u001b[0m \u001b[0;34m*\u001b[0m\u001b[0margs\u001b[0m\u001b[0;34m,\u001b[0m \u001b[0;34m**\u001b[0m\u001b[0mkwargs\u001b[0m\u001b[0;34m)\u001b[0m\u001b[0;34m\u001b[0m\u001b[0m\n\u001b[0m\u001b[1;32m    221\u001b[0m                 \u001b[0mxy\u001b[0m \u001b[0;34m=\u001b[0m \u001b[0mxy\u001b[0m\u001b[0;34m[\u001b[0m\u001b[0;36m0\u001b[0m\u001b[0;34m]\u001b[0m \u001b[0;34m+\u001b[0m \u001b[0moffset\u001b[0m\u001b[0;34m[\u001b[0m\u001b[0;36m0\u001b[0m\u001b[0;34m]\u001b[0m\u001b[0;34m,\u001b[0m \u001b[0mxy\u001b[0m\u001b[0;34m[\u001b[0m\u001b[0;36m1\u001b[0m\u001b[0;34m]\u001b[0m \u001b[0;34m+\u001b[0m \u001b[0moffset\u001b[0m\u001b[0;34m[\u001b[0m\u001b[0;36m1\u001b[0m\u001b[0;34m]\u001b[0m\u001b[0;34m\u001b[0m\u001b[0m\n\u001b[1;32m    222\u001b[0m             \u001b[0;32mexcept\u001b[0m \u001b[0mAttributeError\u001b[0m\u001b[0;34m:\u001b[0m\u001b[0;34m\u001b[0m\u001b[0m\n",
      "\u001b[0;32m/usr/lib/python3/dist-packages/PIL/ImageFont.py\u001b[0m in \u001b[0;36mgetmask2\u001b[0;34m(self, text, mode, fill, direction, features, *args, **kwargs)\u001b[0m\n\u001b[1;32m    165\u001b[0m \u001b[0;34m\u001b[0m\u001b[0m\n\u001b[1;32m    166\u001b[0m     \u001b[0;32mdef\u001b[0m \u001b[0mgetmask2\u001b[0m\u001b[0;34m(\u001b[0m\u001b[0mself\u001b[0m\u001b[0;34m,\u001b[0m \u001b[0mtext\u001b[0m\u001b[0;34m,\u001b[0m \u001b[0mmode\u001b[0m\u001b[0;34m=\u001b[0m\u001b[0;34m\"\"\u001b[0m\u001b[0;34m,\u001b[0m \u001b[0mfill\u001b[0m\u001b[0;34m=\u001b[0m\u001b[0mImage\u001b[0m\u001b[0;34m.\u001b[0m\u001b[0mcore\u001b[0m\u001b[0;34m.\u001b[0m\u001b[0mfill\u001b[0m\u001b[0;34m,\u001b[0m \u001b[0mdirection\u001b[0m\u001b[0;34m=\u001b[0m\u001b[0;32mNone\u001b[0m\u001b[0;34m,\u001b[0m \u001b[0mfeatures\u001b[0m\u001b[0;34m=\u001b[0m\u001b[0;32mNone\u001b[0m\u001b[0;34m,\u001b[0m \u001b[0;34m*\u001b[0m\u001b[0margs\u001b[0m\u001b[0;34m,\u001b[0m \u001b[0;34m**\u001b[0m\u001b[0mkwargs\u001b[0m\u001b[0;34m)\u001b[0m\u001b[0;34m:\u001b[0m\u001b[0;34m\u001b[0m\u001b[0m\n\u001b[0;32m--> 167\u001b[0;31m         \u001b[0msize\u001b[0m\u001b[0;34m,\u001b[0m \u001b[0moffset\u001b[0m \u001b[0;34m=\u001b[0m \u001b[0mself\u001b[0m\u001b[0;34m.\u001b[0m\u001b[0mfont\u001b[0m\u001b[0;34m.\u001b[0m\u001b[0mgetsize\u001b[0m\u001b[0;34m(\u001b[0m\u001b[0mtext\u001b[0m\u001b[0;34m,\u001b[0m \u001b[0mdirection\u001b[0m\u001b[0;34m,\u001b[0m \u001b[0mfeatures\u001b[0m\u001b[0;34m)\u001b[0m\u001b[0;34m\u001b[0m\u001b[0m\n\u001b[0m\u001b[1;32m    168\u001b[0m         \u001b[0mim\u001b[0m \u001b[0;34m=\u001b[0m \u001b[0mfill\u001b[0m\u001b[0;34m(\u001b[0m\u001b[0;34m\"L\"\u001b[0m\u001b[0;34m,\u001b[0m \u001b[0msize\u001b[0m\u001b[0;34m,\u001b[0m \u001b[0;36m0\u001b[0m\u001b[0;34m)\u001b[0m\u001b[0;34m\u001b[0m\u001b[0m\n\u001b[1;32m    169\u001b[0m         \u001b[0mself\u001b[0m\u001b[0;34m.\u001b[0m\u001b[0mfont\u001b[0m\u001b[0;34m.\u001b[0m\u001b[0mrender\u001b[0m\u001b[0;34m(\u001b[0m\u001b[0mtext\u001b[0m\u001b[0;34m,\u001b[0m \u001b[0mim\u001b[0m\u001b[0;34m.\u001b[0m\u001b[0mid\u001b[0m\u001b[0;34m,\u001b[0m \u001b[0mmode\u001b[0m \u001b[0;34m==\u001b[0m \u001b[0;34m\"1\"\u001b[0m\u001b[0;34m,\u001b[0m \u001b[0mdirection\u001b[0m\u001b[0;34m,\u001b[0m \u001b[0mfeatures\u001b[0m\u001b[0;34m)\u001b[0m\u001b[0;34m\u001b[0m\u001b[0m\n",
      "\u001b[0;31mKeyboardInterrupt\u001b[0m: "
     ]
    }
   ],
   "source": [
    "import random\n",
    "import glob\n",
    "\n",
    "\n",
    "video_candidate0 = ['LK_optical_flow/files/v_BaseballPitch_g17_c05.avi',\n",
    "                    'LK_optical_flow/files/v_BaseballPitch_g17_c01.avi',\n",
    "                   'LK_optical_flow/files/v_BaseballPitch_g17_c02.avi',\n",
    "                   'LK_optical_flow/files/v_BaseballPitch_g17_c03.avi']\n",
    "for vd in video_candidate0:\n",
    "    demo(vd)\n",
    "    \n",
    "video_candidate1 = glob.glob('LK_optical_flow/files/*.avi')\n",
    "random.shuffle(video_candidate1)\n",
    "\n",
    "for vd in video_candidate1:\n",
    "    demo(vd)\n",
    "    "
   ]
  },
  {
   "cell_type": "code",
   "execution_count": null,
   "metadata": {},
   "outputs": [],
   "source": [
    "sum(delay_list)/len(delay_list)"
   ]
  },
  {
   "cell_type": "code",
   "execution_count": null,
   "metadata": {},
   "outputs": [],
   "source": []
  },
  {
   "cell_type": "code",
   "execution_count": null,
   "metadata": {},
   "outputs": [],
   "source": []
  },
  {
   "cell_type": "code",
   "execution_count": null,
   "metadata": {},
   "outputs": [],
   "source": []
  },
  {
   "cell_type": "code",
   "execution_count": null,
   "metadata": {},
   "outputs": [],
   "source": [
    "import matplotlib.pyplot as plt\n",
    "%matplotlib inline\n",
    "\n",
    "y = np.array([4.633, 119, 3.58, 0.000151, 193, 11.57])/1000\n",
    "x_label = ['frame_preprocess','spatial_cnn','luccas_kanade','fbank_addr','temporal_cnn','render']\n",
    "x_color = ['red','blue','green','green','green','red']\n",
    "\n",
    "plt.ylabel('sec',fontsize=16)\n",
    "plt.xlabel('component',fontsize=16)\n",
    "plt.xticks(np.arange(len(y)), x_label, rotation=45, fontsize=14)\n",
    "plt.xticks(fontsize=14)\n",
    "\n",
    "for ticklabel, tickcolor in zip(plt.gca().get_xticklabels(), x_color):\n",
    "    ticklabel.set_color(tickcolor)\n",
    "\n",
    "plt.bar(range(len(y)),y, color=x_color)\n",
    "\n",
    "plt.show()\n"
   ]
  },
  {
   "cell_type": "code",
   "execution_count": null,
   "metadata": {},
   "outputs": [],
   "source": []
  },
  {
   "cell_type": "code",
   "execution_count": null,
   "metadata": {},
   "outputs": [],
   "source": []
  },
  {
   "cell_type": "code",
   "execution_count": null,
   "metadata": {},
   "outputs": [],
   "source": []
  },
  {
   "cell_type": "code",
   "execution_count": null,
   "metadata": {},
   "outputs": [],
   "source": []
  },
  {
   "cell_type": "code",
   "execution_count": null,
   "metadata": {},
   "outputs": [],
   "source": []
  },
  {
   "cell_type": "code",
   "execution_count": null,
   "metadata": {},
   "outputs": [],
   "source": []
  },
  {
   "cell_type": "code",
   "execution_count": null,
   "metadata": {},
   "outputs": [],
   "source": []
  }
 ],
 "metadata": {
  "kernelspec": {
   "display_name": "Python 3",
   "language": "python",
   "name": "python3"
  },
  "language_info": {
   "codemirror_mode": {
    "name": "ipython",
    "version": 3
   },
   "file_extension": ".py",
   "mimetype": "text/x-python",
   "name": "python",
   "nbconvert_exporter": "python",
   "pygments_lexer": "ipython3",
   "version": "3.6.5"
  }
 },
 "nbformat": 4,
 "nbformat_minor": 2
}
